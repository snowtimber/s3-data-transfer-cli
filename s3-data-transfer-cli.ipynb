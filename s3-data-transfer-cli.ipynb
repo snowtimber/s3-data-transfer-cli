{
 "cells": [
  {
   "cell_type": "markdown",
   "id": "32044e9e-6484-4d3b-b5ac-5da492172c2d",
   "metadata": {},
   "source": [
    "# Blog Part 2: Optimizing Large Uploads to Amazon S3 using High-Level CLI Commands\n",
    "## Introduction\n",
    "\n",
    "Many people prefer using the AWS command line interface (CLI) tool for its simplicity and versatility. CLI tools offer a way to quickly start transferring files into Amazon S3, Amazon's cloud-based object storage service, across a wide range of operating systems with minimal platform restrictions. Coupled with modern high bandwidth internet connections available at many office and home locations, using the CLI can be an attractive choice even for large (multiple Terabyte) data transfers.\n",
    "\n",
    "This article is part of a three part series on S3 Upload Best Practices:\n",
    "\n",
    "If you are currently evaluating the best data transfer method to Amazon S3, please take a look at this blog article comparing three of the most popular choices for large data transfers.\n",
    "If you are looking to optimize the performance of your large file upload to S3 using the AWS CLI please read on.\n",
    "If you are having trouble with timeouts, network consistency, or incomplete uploads, then use the low-level aws s3api commands for more control over partial retries of an inconsistent multi-part upload according to this blog article."
   ]
  },
  {
   "cell_type": "markdown",
   "id": "23c61b66-ad10-45e1-85a6-e815e9e54af9",
   "metadata": {},
   "source": [
    "## Getting Started with the AWS CLI\n",
    "\n",
    "In this article we will discuss the best practices of optimizing large data transfers using the AWS CLI.\n",
    "Use this link to get set up with the AWS CLI and please see this link to authenticate with IAM user credentials using the CLI command:"
   ]
  },
  {
   "cell_type": "code",
   "execution_count": null,
   "id": "05855d30-63e8-4ecb-8d24-11975d37a06e",
   "metadata": {
    "tags": []
   },
   "outputs": [
    {
     "name": "stdout",
     "output_type": "stream",
     "text": [
      "AWS Access Key ID [****************NO7X]: "
     ]
    }
   ],
   "source": [
    "!aws configure"
   ]
  },
  {
   "cell_type": "markdown",
   "id": "fa267e1f-1354-439f-aa6d-b3cabd365aa7",
   "metadata": {},
   "source": [
    "## Initial File Integrity Checksum\n",
    "Before you upload the file(s), calculate a file’s sha256 checksum value using a utility like openssl or shasum with one of the following commands."
   ]
  },
  {
   "cell_type": "code",
   "execution_count": null,
   "id": "020960f4-9119-4467-8ed0-2da9bf56f844",
   "metadata": {},
   "outputs": [],
   "source": [
    "!openssl sha256 path/large_file.txt"
   ]
  },
  {
   "cell_type": "code",
   "execution_count": null,
   "id": "977933cc-15f8-4adf-879a-8f9e81cdb543",
   "metadata": {},
   "outputs": [],
   "source": [
    "or"
   ]
  },
  {
   "cell_type": "code",
   "execution_count": null,
   "id": "81b71b00-6361-4593-aa70-a9ea35f472db",
   "metadata": {},
   "outputs": [],
   "source": [
    "!shasum -a 256 path/large_file.txt | cut -f1 -d' ' | xxd -r -p | base64"
   ]
  },
  {
   "cell_type": "markdown",
   "id": "522151c8-8dfd-4d37-b637-a903f7f7d523",
   "metadata": {},
   "source": [
    "We will compare the initial checksum with the uploaded files checksum within S3 to validate the file integrity.\n",
    "\n",
    "## Test Transfer\n",
    "Copy a single file to s3 using a simple, high-level aws s3 transfer command for multi-part uploads:"
   ]
  },
  {
   "cell_type": "code",
   "execution_count": null,
   "id": "e1bc1342-1882-41c3-8b4f-c4d749195043",
   "metadata": {},
   "outputs": [],
   "source": [
    "!aws s3 cp large_file.txt s3://mybucket/"
   ]
  },
  {
   "cell_type": "markdown",
   "id": "1178f35a-0f61-4303-b7f8-65b70851ad83",
   "metadata": {},
   "source": [
    "This example uses the command aws s3 cp to automatically perform a multipart upload when the object is large. You can also use other aws s3 commands that involve uploading objects into an S3 bucket. For example, aws s3 sync or aws s3 mv.\n",
    "\n",
    "Note: The AWS CLI will calculate and auto-populate the Content-MD5 header for both standard and multipart uploads. If the checksum that S3 calculates does not match the Content-MD5 provided, S3 will not store the object and instead will return an error message back the AWS CLI. For the purposes of this blog article, we will manually compare the file integrity for demonstration purposes. For more information please see this link.\n",
    "\n",
    "When you run the above command you will see performance metrics while the data transfer is underway:\n",
    "(Fill in with screenshot or copy paste from terminal)."
   ]
  },
  {
   "cell_type": "markdown",
   "id": "bc90439b-1e64-4742-82d5-6978e328ba10",
   "metadata": {},
   "source": [
    "## Optimization 1: AWS S3 CLI Configuration\n",
    "The following default config values apply to aws s3 transfer commands:"
   ]
  },
  {
   "cell_type": "code",
   "execution_count": null,
   "id": "f3335397-bae5-4969-b0d3-fc2092ecae38",
   "metadata": {},
   "outputs": [],
   "source": [
    "s3 =\n",
    "  max_concurrent_requests = 10\n",
    "  max_queue_size = 1000\n",
    "  multipart_threshold = 8MB\n",
    "  multipart_chunksize = 8MB\n",
    "  max_bandwidth = None\n",
    "  use_accelerate_endpoint =false\n",
    "  addressing_style = auto"
   ]
  },
  {
   "cell_type": "markdown",
   "id": "820e265c-f207-48a2-a10d-08954c6e3bd2",
   "metadata": {},
   "source": [
    "Depending on your data and local network, we can adjust these values to maximize transfer speed using the aws configure set command. Let's increase these values using the below commands to compare performance."
   ]
  },
  {
   "cell_type": "code",
   "execution_count": null,
   "id": "20cb138c-305f-46d7-8fba-c980ff567ca1",
   "metadata": {},
   "outputs": [],
   "source": [
    "!aws configure set default.s3.max_concurrent_requests 20\n",
    "!aws configure set default.s3.max_queue_size 10000\n",
    "!aws configure set default.s3.multipart_threshold 64MB\n",
    "!aws configure set default.s3.multipart_chunksize 16MB\n",
    "!aws configure set default.s3.max_bandwidth 100GB/s\n",
    "!aws configure set default.s3.payload_signing_enabled True"
   ]
  },
  {
   "cell_type": "markdown",
   "id": "fee86054-3cf0-4ebe-8515-632737d54e10",
   "metadata": {},
   "source": [
    "You can run cat ~/.aws/config to verify the modified configuration settings:"
   ]
  },
  {
   "cell_type": "code",
   "execution_count": null,
   "id": "a08da151-4873-4c49-9944-608eccdc74a9",
   "metadata": {
    "tags": []
   },
   "outputs": [],
   "source": [
    "!cat ~/.aws/config"
   ]
  },
  {
   "cell_type": "markdown",
   "id": "d8121bde-350e-4e0b-8929-8307f979ec62",
   "metadata": {},
   "source": [
    "(Fill in with screenshot or copy paste from terminal).\n",
    "\n",
    "Feel free to further customize the above variables to maximize transfer speed for your unique environment. For more information, see the aws s3 transfer documentation.\n",
    "\n",
    "If we rerun the earlier aws cp command:"
   ]
  },
  {
   "cell_type": "code",
   "execution_count": null,
   "id": "d677ac79-409f-416c-9c6f-4b5d4833dad4",
   "metadata": {},
   "outputs": [],
   "source": [
    "!aws s3 cp large_file.txt s3://mybucket/"
   ]
  },
  {
   "cell_type": "markdown",
   "id": "99aaa3a0-d542-4e21-a80a-fb51f7187475",
   "metadata": {},
   "source": [
    "We see that the transfer performance has improved. This is a good start but we can still do some further optimization.\n",
    "\n",
    "(Fill in with screenshot or copy paste from terminal)."
   ]
  },
  {
   "cell_type": "markdown",
   "id": "26bcf06c-cb2b-406a-81d8-8f5913133098",
   "metadata": {},
   "source": [
    "## Optimization 2: S3 Acceleration\n",
    "S3 Transfer Acceleration (S3TA) reduces the variability in Internet routing, congestion and speeds that can affect transfers, and logically shortens the distance to S3 for remote applications. S3TA improves transfer performance by routing traffic through Amazon CloudFront’s globally distributed Edge Locations and over AWS backbone networks, and by using network protocol optimizations.\n",
    "\n",
    "To get a good idea of how much network performance can be optimized between your geographic location and various AWS regions, please use this speed comparison tool.\n",
    "\n",
    "Once you have decided on the region for the S3 bucket to be hosted in (remember Amazon S3 has a global namespace but is regionally hosted), then we will need to configure your bucket for S3 Transfer Acceleration.\n",
    "\n",
    "Enabling Transfer Acceleration on a bucket\n",
    "The following sample command sets Status=Enabled to enable Transfer Acceleration on a bucket:"
   ]
  },
  {
   "cell_type": "code",
   "execution_count": null,
   "id": "907feb9c-6a4c-427e-abf0-e85ae977826b",
   "metadata": {},
   "outputs": [],
   "source": [
    "!aws s3api put-bucket-accelerate-configuration --bucket bucketname --accelerate-configuration Status=Enabled"
   ]
  },
  {
   "cell_type": "code",
   "execution_count": null,
   "id": "83aa609f-4b9b-4836-96bd-78a2b37d7949",
   "metadata": {},
   "outputs": [],
   "source": [
    "Using Transfer Acceleration\n",
    "In order to direct all future aws s3 and aws s3api requests to the accelerate endpoint, we can set the default configuration variable with:\n",
    "\n",
    "python\n",
    "Copy code"
   ]
  },
  {
   "cell_type": "code",
   "execution_count": null,
   "id": "b47204de-03fc-4e38-9c62-6ac53b4a90d3",
   "metadata": {},
   "outputs": [],
   "source": [
    "!aws configure set default.s3.use_accelerate_endpoint true"
   ]
  },
  {
   "cell_type": "markdown",
   "id": "2529ec0d-dbc8-4e6f-8a98-45d751743507",
   "metadata": {},
   "source": [
    "Initiate Full Transfer\n",
    "Now that we have optimized the s3 data transfer for both CLI configuration and S3 Transfer Acceleration we can initiate a full sync of our entire local directory directory into an Amazon S3 bucket directory using the command:"
   ]
  },
  {
   "cell_type": "code",
   "execution_count": null,
   "id": "1041d0c6-18bf-4f42-8b28-1d76c9f9affa",
   "metadata": {},
   "outputs": [],
   "source": [
    "!aws s3 sync . s3://mybucket/"
   ]
  },
  {
   "cell_type": "markdown",
   "id": "582514d9-dde3-4227-adef-ec4970da4f96",
   "metadata": {},
   "source": [
    "With the sync command, a local file will require uploading if the size of the local file is different than the size of the s3 object, the last modified time of the local file is newer than the last modified time of the s3 object, or the local file does not exist under the specified bucket and prefix. In this example, the user syncs the local current directory to the bucket mybucket.\n",
    "\n",
    "## Optimization 3: Parallelism\n",
    "If you still have remaining internet bandwidth that is not being utilized even with the above optimizations, then your workload may be getting bottle necked on the hardware or application level of your source computer. This is where you can introduce parallelism to further enhance your data transfer by considering separating your data storage to multiple drives and running multiple instances or windows of your CLI tool.\n",
    "\n",
    "(More guidance on separating out directories) (especially for low tech)"
   ]
  },
  {
   "cell_type": "markdown",
   "id": "94ff143e-ce3f-4014-b8d8-6e7ecdfa9302",
   "metadata": {},
   "source": [
    "## Final File Integrity Checksum in S3\n",
    "Now that the file(s) have been uploaded to S3, you can validate the file integrity using the S3 provided ETag and compare it with the initial sha256 checksum value. This can be done using the aws s3api head-object command."
   ]
  },
  {
   "cell_type": "code",
   "execution_count": null,
   "id": "cea21c88-29bc-4939-8566-be6662029456",
   "metadata": {},
   "outputs": [],
   "source": [
    "!aws s3api head-object --bucket mybucket --key large_file.txt"
   ]
  },
  {
   "cell_type": "markdown",
   "id": "30222c31-e876-4668-bc94-e3b98a9826e6",
   "metadata": {},
   "source": [
    "Now compare the ETag value returned from this command with the initial checksum value that we calculated.\n",
    "\n",
    "## Conclusion\n",
    "Transferring large amounts of data to Amazon S3 can be optimized in several ways. We discussed the CLI configuration, S3 Acceleration, parallelism and others to enhance your data transfer performance. The key is to identify the bottlenecks in your transfer and apply the right optimization techniques accordingly. Always remember to check file integrity post upload. Stay tuned for the third part of this series for a deep dive into troubleshooting S3 uploads.\n",
    "\n",
    "## Additional Resources\n",
    "AWS CLI documentation\n",
    "AWS S3 Transfer Acceleration\n",
    "Best Practices for Migrating Your Data to Amazon S3\n",
    "Amazon S3 Data Transfer Acceleration Speed Comparison"
   ]
  }
 ],
 "metadata": {
  "availableInstances": [
   {
    "_defaultOrder": 0,
    "_isFastLaunch": true,
    "category": "General purpose",
    "gpuNum": 0,
    "hideHardwareSpecs": false,
    "memoryGiB": 4,
    "name": "ml.t3.medium",
    "vcpuNum": 2
   },
   {
    "_defaultOrder": 1,
    "_isFastLaunch": false,
    "category": "General purpose",
    "gpuNum": 0,
    "hideHardwareSpecs": false,
    "memoryGiB": 8,
    "name": "ml.t3.large",
    "vcpuNum": 2
   },
   {
    "_defaultOrder": 2,
    "_isFastLaunch": false,
    "category": "General purpose",
    "gpuNum": 0,
    "hideHardwareSpecs": false,
    "memoryGiB": 16,
    "name": "ml.t3.xlarge",
    "vcpuNum": 4
   },
   {
    "_defaultOrder": 3,
    "_isFastLaunch": false,
    "category": "General purpose",
    "gpuNum": 0,
    "hideHardwareSpecs": false,
    "memoryGiB": 32,
    "name": "ml.t3.2xlarge",
    "vcpuNum": 8
   },
   {
    "_defaultOrder": 4,
    "_isFastLaunch": true,
    "category": "General purpose",
    "gpuNum": 0,
    "hideHardwareSpecs": false,
    "memoryGiB": 8,
    "name": "ml.m5.large",
    "vcpuNum": 2
   },
   {
    "_defaultOrder": 5,
    "_isFastLaunch": false,
    "category": "General purpose",
    "gpuNum": 0,
    "hideHardwareSpecs": false,
    "memoryGiB": 16,
    "name": "ml.m5.xlarge",
    "vcpuNum": 4
   },
   {
    "_defaultOrder": 6,
    "_isFastLaunch": false,
    "category": "General purpose",
    "gpuNum": 0,
    "hideHardwareSpecs": false,
    "memoryGiB": 32,
    "name": "ml.m5.2xlarge",
    "vcpuNum": 8
   },
   {
    "_defaultOrder": 7,
    "_isFastLaunch": false,
    "category": "General purpose",
    "gpuNum": 0,
    "hideHardwareSpecs": false,
    "memoryGiB": 64,
    "name": "ml.m5.4xlarge",
    "vcpuNum": 16
   },
   {
    "_defaultOrder": 8,
    "_isFastLaunch": false,
    "category": "General purpose",
    "gpuNum": 0,
    "hideHardwareSpecs": false,
    "memoryGiB": 128,
    "name": "ml.m5.8xlarge",
    "vcpuNum": 32
   },
   {
    "_defaultOrder": 9,
    "_isFastLaunch": false,
    "category": "General purpose",
    "gpuNum": 0,
    "hideHardwareSpecs": false,
    "memoryGiB": 192,
    "name": "ml.m5.12xlarge",
    "vcpuNum": 48
   },
   {
    "_defaultOrder": 10,
    "_isFastLaunch": false,
    "category": "General purpose",
    "gpuNum": 0,
    "hideHardwareSpecs": false,
    "memoryGiB": 256,
    "name": "ml.m5.16xlarge",
    "vcpuNum": 64
   },
   {
    "_defaultOrder": 11,
    "_isFastLaunch": false,
    "category": "General purpose",
    "gpuNum": 0,
    "hideHardwareSpecs": false,
    "memoryGiB": 384,
    "name": "ml.m5.24xlarge",
    "vcpuNum": 96
   },
   {
    "_defaultOrder": 12,
    "_isFastLaunch": false,
    "category": "General purpose",
    "gpuNum": 0,
    "hideHardwareSpecs": false,
    "memoryGiB": 8,
    "name": "ml.m5d.large",
    "vcpuNum": 2
   },
   {
    "_defaultOrder": 13,
    "_isFastLaunch": false,
    "category": "General purpose",
    "gpuNum": 0,
    "hideHardwareSpecs": false,
    "memoryGiB": 16,
    "name": "ml.m5d.xlarge",
    "vcpuNum": 4
   },
   {
    "_defaultOrder": 14,
    "_isFastLaunch": false,
    "category": "General purpose",
    "gpuNum": 0,
    "hideHardwareSpecs": false,
    "memoryGiB": 32,
    "name": "ml.m5d.2xlarge",
    "vcpuNum": 8
   },
   {
    "_defaultOrder": 15,
    "_isFastLaunch": false,
    "category": "General purpose",
    "gpuNum": 0,
    "hideHardwareSpecs": false,
    "memoryGiB": 64,
    "name": "ml.m5d.4xlarge",
    "vcpuNum": 16
   },
   {
    "_defaultOrder": 16,
    "_isFastLaunch": false,
    "category": "General purpose",
    "gpuNum": 0,
    "hideHardwareSpecs": false,
    "memoryGiB": 128,
    "name": "ml.m5d.8xlarge",
    "vcpuNum": 32
   },
   {
    "_defaultOrder": 17,
    "_isFastLaunch": false,
    "category": "General purpose",
    "gpuNum": 0,
    "hideHardwareSpecs": false,
    "memoryGiB": 192,
    "name": "ml.m5d.12xlarge",
    "vcpuNum": 48
   },
   {
    "_defaultOrder": 18,
    "_isFastLaunch": false,
    "category": "General purpose",
    "gpuNum": 0,
    "hideHardwareSpecs": false,
    "memoryGiB": 256,
    "name": "ml.m5d.16xlarge",
    "vcpuNum": 64
   },
   {
    "_defaultOrder": 19,
    "_isFastLaunch": false,
    "category": "General purpose",
    "gpuNum": 0,
    "hideHardwareSpecs": false,
    "memoryGiB": 384,
    "name": "ml.m5d.24xlarge",
    "vcpuNum": 96
   },
   {
    "_defaultOrder": 20,
    "_isFastLaunch": false,
    "category": "General purpose",
    "gpuNum": 0,
    "hideHardwareSpecs": true,
    "memoryGiB": 0,
    "name": "ml.geospatial.interactive",
    "supportedImageNames": [
     "sagemaker-geospatial-v1-0"
    ],
    "vcpuNum": 0
   },
   {
    "_defaultOrder": 21,
    "_isFastLaunch": true,
    "category": "Compute optimized",
    "gpuNum": 0,
    "hideHardwareSpecs": false,
    "memoryGiB": 4,
    "name": "ml.c5.large",
    "vcpuNum": 2
   },
   {
    "_defaultOrder": 22,
    "_isFastLaunch": false,
    "category": "Compute optimized",
    "gpuNum": 0,
    "hideHardwareSpecs": false,
    "memoryGiB": 8,
    "name": "ml.c5.xlarge",
    "vcpuNum": 4
   },
   {
    "_defaultOrder": 23,
    "_isFastLaunch": false,
    "category": "Compute optimized",
    "gpuNum": 0,
    "hideHardwareSpecs": false,
    "memoryGiB": 16,
    "name": "ml.c5.2xlarge",
    "vcpuNum": 8
   },
   {
    "_defaultOrder": 24,
    "_isFastLaunch": false,
    "category": "Compute optimized",
    "gpuNum": 0,
    "hideHardwareSpecs": false,
    "memoryGiB": 32,
    "name": "ml.c5.4xlarge",
    "vcpuNum": 16
   },
   {
    "_defaultOrder": 25,
    "_isFastLaunch": false,
    "category": "Compute optimized",
    "gpuNum": 0,
    "hideHardwareSpecs": false,
    "memoryGiB": 72,
    "name": "ml.c5.9xlarge",
    "vcpuNum": 36
   },
   {
    "_defaultOrder": 26,
    "_isFastLaunch": false,
    "category": "Compute optimized",
    "gpuNum": 0,
    "hideHardwareSpecs": false,
    "memoryGiB": 96,
    "name": "ml.c5.12xlarge",
    "vcpuNum": 48
   },
   {
    "_defaultOrder": 27,
    "_isFastLaunch": false,
    "category": "Compute optimized",
    "gpuNum": 0,
    "hideHardwareSpecs": false,
    "memoryGiB": 144,
    "name": "ml.c5.18xlarge",
    "vcpuNum": 72
   },
   {
    "_defaultOrder": 28,
    "_isFastLaunch": false,
    "category": "Compute optimized",
    "gpuNum": 0,
    "hideHardwareSpecs": false,
    "memoryGiB": 192,
    "name": "ml.c5.24xlarge",
    "vcpuNum": 96
   },
   {
    "_defaultOrder": 29,
    "_isFastLaunch": true,
    "category": "Accelerated computing",
    "gpuNum": 1,
    "hideHardwareSpecs": false,
    "memoryGiB": 16,
    "name": "ml.g4dn.xlarge",
    "vcpuNum": 4
   },
   {
    "_defaultOrder": 30,
    "_isFastLaunch": false,
    "category": "Accelerated computing",
    "gpuNum": 1,
    "hideHardwareSpecs": false,
    "memoryGiB": 32,
    "name": "ml.g4dn.2xlarge",
    "vcpuNum": 8
   },
   {
    "_defaultOrder": 31,
    "_isFastLaunch": false,
    "category": "Accelerated computing",
    "gpuNum": 1,
    "hideHardwareSpecs": false,
    "memoryGiB": 64,
    "name": "ml.g4dn.4xlarge",
    "vcpuNum": 16
   },
   {
    "_defaultOrder": 32,
    "_isFastLaunch": false,
    "category": "Accelerated computing",
    "gpuNum": 1,
    "hideHardwareSpecs": false,
    "memoryGiB": 128,
    "name": "ml.g4dn.8xlarge",
    "vcpuNum": 32
   },
   {
    "_defaultOrder": 33,
    "_isFastLaunch": false,
    "category": "Accelerated computing",
    "gpuNum": 4,
    "hideHardwareSpecs": false,
    "memoryGiB": 192,
    "name": "ml.g4dn.12xlarge",
    "vcpuNum": 48
   },
   {
    "_defaultOrder": 34,
    "_isFastLaunch": false,
    "category": "Accelerated computing",
    "gpuNum": 1,
    "hideHardwareSpecs": false,
    "memoryGiB": 256,
    "name": "ml.g4dn.16xlarge",
    "vcpuNum": 64
   },
   {
    "_defaultOrder": 35,
    "_isFastLaunch": false,
    "category": "Accelerated computing",
    "gpuNum": 1,
    "hideHardwareSpecs": false,
    "memoryGiB": 61,
    "name": "ml.p3.2xlarge",
    "vcpuNum": 8
   },
   {
    "_defaultOrder": 36,
    "_isFastLaunch": false,
    "category": "Accelerated computing",
    "gpuNum": 4,
    "hideHardwareSpecs": false,
    "memoryGiB": 244,
    "name": "ml.p3.8xlarge",
    "vcpuNum": 32
   },
   {
    "_defaultOrder": 37,
    "_isFastLaunch": false,
    "category": "Accelerated computing",
    "gpuNum": 8,
    "hideHardwareSpecs": false,
    "memoryGiB": 488,
    "name": "ml.p3.16xlarge",
    "vcpuNum": 64
   },
   {
    "_defaultOrder": 38,
    "_isFastLaunch": false,
    "category": "Accelerated computing",
    "gpuNum": 8,
    "hideHardwareSpecs": false,
    "memoryGiB": 768,
    "name": "ml.p3dn.24xlarge",
    "vcpuNum": 96
   },
   {
    "_defaultOrder": 39,
    "_isFastLaunch": false,
    "category": "Memory Optimized",
    "gpuNum": 0,
    "hideHardwareSpecs": false,
    "memoryGiB": 16,
    "name": "ml.r5.large",
    "vcpuNum": 2
   },
   {
    "_defaultOrder": 40,
    "_isFastLaunch": false,
    "category": "Memory Optimized",
    "gpuNum": 0,
    "hideHardwareSpecs": false,
    "memoryGiB": 32,
    "name": "ml.r5.xlarge",
    "vcpuNum": 4
   },
   {
    "_defaultOrder": 41,
    "_isFastLaunch": false,
    "category": "Memory Optimized",
    "gpuNum": 0,
    "hideHardwareSpecs": false,
    "memoryGiB": 64,
    "name": "ml.r5.2xlarge",
    "vcpuNum": 8
   },
   {
    "_defaultOrder": 42,
    "_isFastLaunch": false,
    "category": "Memory Optimized",
    "gpuNum": 0,
    "hideHardwareSpecs": false,
    "memoryGiB": 128,
    "name": "ml.r5.4xlarge",
    "vcpuNum": 16
   },
   {
    "_defaultOrder": 43,
    "_isFastLaunch": false,
    "category": "Memory Optimized",
    "gpuNum": 0,
    "hideHardwareSpecs": false,
    "memoryGiB": 256,
    "name": "ml.r5.8xlarge",
    "vcpuNum": 32
   },
   {
    "_defaultOrder": 44,
    "_isFastLaunch": false,
    "category": "Memory Optimized",
    "gpuNum": 0,
    "hideHardwareSpecs": false,
    "memoryGiB": 384,
    "name": "ml.r5.12xlarge",
    "vcpuNum": 48
   },
   {
    "_defaultOrder": 45,
    "_isFastLaunch": false,
    "category": "Memory Optimized",
    "gpuNum": 0,
    "hideHardwareSpecs": false,
    "memoryGiB": 512,
    "name": "ml.r5.16xlarge",
    "vcpuNum": 64
   },
   {
    "_defaultOrder": 46,
    "_isFastLaunch": false,
    "category": "Memory Optimized",
    "gpuNum": 0,
    "hideHardwareSpecs": false,
    "memoryGiB": 768,
    "name": "ml.r5.24xlarge",
    "vcpuNum": 96
   },
   {
    "_defaultOrder": 47,
    "_isFastLaunch": false,
    "category": "Accelerated computing",
    "gpuNum": 1,
    "hideHardwareSpecs": false,
    "memoryGiB": 16,
    "name": "ml.g5.xlarge",
    "vcpuNum": 4
   },
   {
    "_defaultOrder": 48,
    "_isFastLaunch": false,
    "category": "Accelerated computing",
    "gpuNum": 1,
    "hideHardwareSpecs": false,
    "memoryGiB": 32,
    "name": "ml.g5.2xlarge",
    "vcpuNum": 8
   },
   {
    "_defaultOrder": 49,
    "_isFastLaunch": false,
    "category": "Accelerated computing",
    "gpuNum": 1,
    "hideHardwareSpecs": false,
    "memoryGiB": 64,
    "name": "ml.g5.4xlarge",
    "vcpuNum": 16
   },
   {
    "_defaultOrder": 50,
    "_isFastLaunch": false,
    "category": "Accelerated computing",
    "gpuNum": 1,
    "hideHardwareSpecs": false,
    "memoryGiB": 128,
    "name": "ml.g5.8xlarge",
    "vcpuNum": 32
   },
   {
    "_defaultOrder": 51,
    "_isFastLaunch": false,
    "category": "Accelerated computing",
    "gpuNum": 1,
    "hideHardwareSpecs": false,
    "memoryGiB": 256,
    "name": "ml.g5.16xlarge",
    "vcpuNum": 64
   },
   {
    "_defaultOrder": 52,
    "_isFastLaunch": false,
    "category": "Accelerated computing",
    "gpuNum": 4,
    "hideHardwareSpecs": false,
    "memoryGiB": 192,
    "name": "ml.g5.12xlarge",
    "vcpuNum": 48
   },
   {
    "_defaultOrder": 53,
    "_isFastLaunch": false,
    "category": "Accelerated computing",
    "gpuNum": 4,
    "hideHardwareSpecs": false,
    "memoryGiB": 384,
    "name": "ml.g5.24xlarge",
    "vcpuNum": 96
   },
   {
    "_defaultOrder": 54,
    "_isFastLaunch": false,
    "category": "Accelerated computing",
    "gpuNum": 8,
    "hideHardwareSpecs": false,
    "memoryGiB": 768,
    "name": "ml.g5.48xlarge",
    "vcpuNum": 192
   },
   {
    "_defaultOrder": 55,
    "_isFastLaunch": false,
    "category": "Accelerated computing",
    "gpuNum": 8,
    "hideHardwareSpecs": false,
    "memoryGiB": 1152,
    "name": "ml.p4d.24xlarge",
    "vcpuNum": 96
   },
   {
    "_defaultOrder": 56,
    "_isFastLaunch": false,
    "category": "Accelerated computing",
    "gpuNum": 8,
    "hideHardwareSpecs": false,
    "memoryGiB": 1152,
    "name": "ml.p4de.24xlarge",
    "vcpuNum": 96
   }
  ],
  "instance_type": "ml.t3.medium",
  "kernelspec": {
   "display_name": "Python 3 (ipykernel)",
   "language": "python",
   "name": "python3"
  },
  "language_info": {
   "codemirror_mode": {
    "name": "ipython",
    "version": 3
   },
   "file_extension": ".py",
   "mimetype": "text/x-python",
   "name": "python",
   "nbconvert_exporter": "python",
   "pygments_lexer": "ipython3",
   "version": "3.11.5"
  }
 },
 "nbformat": 4,
 "nbformat_minor": 5
}
